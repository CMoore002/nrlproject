{
 "cells": [
  {
   "cell_type": "code",
   "execution_count": 41,
   "id": "59942e28",
   "metadata": {},
   "outputs": [],
   "source": [
    "import requests\n",
    "import re\n",
    "import pandas as pd\n",
    "import numpy as np\n",
    "from bs4 import BeautifulSoup\n",
    "import random\n",
    "import numpy as np\n",
    "competitionType = '111'\n",
    "seasonYear = 2023\n",
    "roundNumber = 1\n",
    "currentYear = 2023\n",
    "\n",
    "def removeCharacters(string):\n",
    "    \"\"\"\n",
    "    Function returns the string without special characters\n",
    "    \"\"\"\n",
    "    return re.sub('\\W+', '', string)"
   ]
  },
  {
   "cell_type": "code",
   "execution_count": 47,
   "id": "84c7c40a",
   "metadata": {},
   "outputs": [
    {
     "name": "stdout",
     "output_type": "stream",
     "text": [
      "Round1 2023-03-02 2023 Eels Storm\n",
      "Round1 2023-03-03 2023 Warriors Knights\n",
      "Round1 2023-03-03 2023 Panthers Broncos\n",
      "Round1 2023-03-04 2023 SeaEagles Bulldogs\n",
      "Round1 2023-03-04 2023 Cowboys Raiders\n",
      "Round1 2023-03-04 2023 Sharks Rabbitohs\n",
      "Round1 2023-03-05 2023 Dolphins Roosters\n",
      "Round1 2023-03-05 2023 WestsTigers Titans\n",
      "8\n"
     ]
    }
   ],
   "source": [
    "###Getting page information\n",
    "##Rrequesting page source\n",
    "page = requests.get('https://www.nrl.com/draw/?competition={}&round={}&season={}'\n",
    "                    .format(competitionType, roundNumber, seasonYear))\n",
    "\n",
    "##Parsing with BeautifulSoup\n",
    "soup = BeautifulSoup(page.content, 'html.parser')\n",
    "\n",
    "##Getting data from page. Finding the class and then searching q-data in the div element\n",
    "roundData = str(soup.find(class_=\"u-spacing-mt-24\")['q-data'])\n",
    "\n",
    "##Splitting each match into it's own entry in list. Index 0 is useless information, \n",
    "##therefore start at 1.\n",
    "matchList = []\n",
    "for text in roundData.split('matchCentreUrl'):\n",
    "    matchList.append(text)\n",
    "    \n",
    "##Finding Round Number. Finds first occurrence of '\"roundTitle\":' and splits. Split again to get \n",
    "##round number\n",
    "roundList = []\n",
    "for x in range(1, len(matchList)):\n",
    "    roundList.append(removeCharacters(roundData.split('\"roundTitle\":')[1].split(',')[0]))\n",
    "\n",
    "##Finding Date of Match\n",
    "dateData = []\n",
    "seasonData = []\n",
    "for x in range(1, len(matchList)):\n",
    "    dateData.append(matchList[x].split('\"kickOffTimeLong\":')[1].split(',')[0].split('T')[0].replace('\"', ''))\n",
    "    seasonData.append(matchList[x].split('\"kickOffTimeLong\":')[1].split(',')[0].split('T')[0].replace('\"', '').split('-')[0])\n",
    "\n",
    "##Finding Team Name Data\n",
    "##the index for teamData is (x-1) because the loop starts at 1\n",
    "teamData = []\n",
    "homeList = []\n",
    "awayList = []\n",
    "for x in range(1, len(matchList)):\n",
    "    teamData.append([removeCharacters(y.split(':')[1]) for y in matchList[x].split(',') if \"nickName\" in y])\n",
    "    homeList.append(teamData[x-1][0])\n",
    "    awayList.append(teamData[x-1][1])\n",
    "    \n",
    "for x in range(len(matchList)-1):\n",
    "    print(roundList[x], dateData[x], seasonData[x], homeList[x], awayList[x])\n",
    "print(len(matchList)-1)"
   ]
  },
  {
   "cell_type": "code",
   "execution_count": 38,
   "id": "c9c73098",
   "metadata": {},
   "outputs": [
    {
     "name": "stdout",
     "output_type": "stream",
     "text": [
      "2022-10-02\n",
      "28\n",
      "12\n"
     ]
    }
   ],
   "source": [
    "##Getting score and inserting into database\n",
    "competitionType = '111'\n",
    "seasonYear = 2022\n",
    "roundNumber = 30\n",
    "##Requesting page source\n",
    "page = requests.get('https://www.nrl.com/draw/?competition={}&round={}&season={}'\n",
    "                    .format(competitionType, roundNumber, seasonYear))\n",
    "\n",
    "##Parsing with BeautifulSoup\n",
    "soup = BeautifulSoup(page.content, 'html.parser')\n",
    "\n",
    "##Getting data from page. Finding the class and then searching q-data in the div element\n",
    "roundData = str(soup.find(class_=\"u-spacing-mt-24\")['q-data'])\n",
    "\n",
    "##Splitting each match into it's own entry in list. Index 0 is useless information, \n",
    "##therefore start at 1.\n",
    "matchList = []\n",
    "for text in roundData.split('matchCentreUrl'):\n",
    "    matchList.append(text)\n",
    "\n",
    "##Finding Date of Match\n",
    "dateData = []\n",
    "for x in range(1, len(matchList)):\n",
    "    dateData.append(matchList[x].split('\"kickOffTimeLong\":')[1].split(',')[0].split('T')[0].replace('\"', ''))\n",
    "    \n",
    "##Finding score Data\n",
    "##the index for scoreData is (x-1) because the loop starts at 1\n",
    "scoreData = []\n",
    "for x in range(1, len(matchList)):\n",
    "    scoreData.append([removeCharacters(y.split(':')[1]) for y in matchList[x].split(',') if \"score\" in y])\n",
    "    \n",
    "for x in range(1, len(matchList)):\n",
    "    #tempData = nrlData2.objects.get(date=dateData[x-1])\n",
    "    print(dateData[x-1])\n",
    "    #tempData.homeScore = scoreData[x-1][0]\n",
    "    print(scoreData[x-1][0])\n",
    "    #tempData.awayScore = scoreData[x-1][1]\n",
    "    print(scoreData[x-1][1])\n",
    "    #tempData.save()"
   ]
  },
  {
   "cell_type": "code",
   "execution_count": 34,
   "id": "703dcf6e",
   "metadata": {},
   "outputs": [
    {
     "name": "stdout",
     "output_type": "stream",
     "text": [
      "Dragons\n",
      "Storm\n"
     ]
    }
   ],
   "source": [
    "testDict = {\n",
    "    \"Dragons\" : 1000,\n",
    "    \"Storm\" : 1000\n",
    "}\n",
    "for x in testDict:\n",
    "    print(x)"
   ]
  },
  {
   "cell_type": "code",
   "execution_count": null,
   "id": "b0de3175",
   "metadata": {},
   "outputs": [],
   "source": []
  }
 ],
 "metadata": {
  "kernelspec": {
   "display_name": "Python 3",
   "language": "python",
   "name": "python3"
  },
  "language_info": {
   "codemirror_mode": {
    "name": "ipython",
    "version": 3
   },
   "file_extension": ".py",
   "mimetype": "text/x-python",
   "name": "python",
   "nbconvert_exporter": "python",
   "pygments_lexer": "ipython3",
   "version": "3.8.8"
  }
 },
 "nbformat": 4,
 "nbformat_minor": 5
}
